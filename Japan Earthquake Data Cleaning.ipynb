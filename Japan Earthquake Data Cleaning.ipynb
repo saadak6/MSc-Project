{
 "cells": [
  {
   "cell_type": "code",
   "execution_count": 1,
   "id": "10d8179d",
   "metadata": {},
   "outputs": [],
   "source": [
    "import pandas as pd\n",
    "import datetime\n",
    "import numpy as np\n",
    "from datetime import datetime, timezone"
   ]
  },
  {
   "cell_type": "markdown",
   "id": "a73253e9",
   "metadata": {},
   "source": [
    "### Important Note: Japans data had to be downloaded in two parts as USGS doesn't allow to download more than 20000 lines of data. So the data was loaded into two dataframes and then joined through concat feature"
   ]
  },
  {
   "cell_type": "code",
   "execution_count": 2,
   "id": "1aad1a00",
   "metadata": {},
   "outputs": [],
   "source": [
    "jap1_df = pd.read_csv('j_2010.csv')\n",
    "jap2_df = pd.read_csv('j_2023.csv')\n",
    "#Create dataframe for both datasets"
   ]
  },
  {
   "cell_type": "code",
   "execution_count": 3,
   "id": "05bc44a8",
   "metadata": {},
   "outputs": [
    {
     "data": {
      "text/plain": [
       "time               12253\n",
       "latitude           12253\n",
       "longitude          12253\n",
       "depth              12253\n",
       "mag                12253\n",
       "magType            12253\n",
       "nst                 7760\n",
       "gap                 5722\n",
       "dmin                   0\n",
       "rms                11448\n",
       "net                12253\n",
       "id                 12253\n",
       "updated            12253\n",
       "place              12251\n",
       "type               12253\n",
       "horizontalError        0\n",
       "depthError          5115\n",
       "magError               2\n",
       "magNst              9169\n",
       "status             12253\n",
       "locationSource     12253\n",
       "magSource          12253\n",
       "dtype: int64"
      ]
     },
     "execution_count": 3,
     "metadata": {},
     "output_type": "execute_result"
    }
   ],
   "source": [
    "jap1_df.count()"
   ]
  },
  {
   "cell_type": "code",
   "execution_count": 28,
   "id": "7829c3e0",
   "metadata": {},
   "outputs": [],
   "source": [
    "df = pd.concat([jap1_df, jap2_df], ignore_index = True, sort = False)\n",
    "# use concat feature to join them together"
   ]
  },
  {
   "cell_type": "code",
   "execution_count": 29,
   "id": "ab7b5ec3",
   "metadata": {},
   "outputs": [
    {
     "data": {
      "text/plain": [
       "time         26006\n",
       "latitude     26006\n",
       "longitude    26006\n",
       "depth        26006\n",
       "mag          26006\n",
       "magType      26006\n",
       "place        25953\n",
       "dtype: int64"
      ]
     },
     "execution_count": 29,
     "metadata": {},
     "output_type": "execute_result"
    }
   ],
   "source": [
    "df = df.drop(columns = ['nst', 'gap', 'dmin', 'rms', 'updated', 'net', 'horizontalError', 'depthError', 'magError', 'magNst', 'status', 'locationSource', 'magSource', 'type', 'id'])\n",
    "df.count()\n",
    "#drop unwanted columns and do a count to check how many values we have"
   ]
  },
  {
   "cell_type": "code",
   "execution_count": 30,
   "id": "fb5f1230",
   "metadata": {},
   "outputs": [],
   "source": [
    "df = df.dropna(subset = ['place'])\n",
    "#remove na values in the column place"
   ]
  },
  {
   "cell_type": "code",
   "execution_count": 31,
   "id": "710bf7d2",
   "metadata": {},
   "outputs": [],
   "source": [
    "df = df[df['place'].str.contains('Japan')]\n",
    "# through this we will overwrite the dataframe by filtering out places that have contained the word JAPAN. \n",
    "# Through this we ensure our data doesn't include any other country."
   ]
  },
  {
   "cell_type": "code",
   "execution_count": 32,
   "id": "70b4f3b2",
   "metadata": {},
   "outputs": [
    {
     "data": {
      "text/plain": [
       "time         25637\n",
       "latitude     25637\n",
       "longitude    25637\n",
       "depth        25637\n",
       "mag          25637\n",
       "magType      25637\n",
       "place        25637\n",
       "dtype: int64"
      ]
     },
     "execution_count": 32,
     "metadata": {},
     "output_type": "execute_result"
    }
   ],
   "source": [
    "df.count()\n",
    "#checking count again and we can see the values dropped to 25637"
   ]
  },
  {
   "cell_type": "code",
   "execution_count": 33,
   "id": "276900d6",
   "metadata": {},
   "outputs": [],
   "source": [
    "jap_time = pd.to_datetime(df['time'])\n",
    "# use datetime to change iso8601 time to datetime value"
   ]
  },
  {
   "cell_type": "code",
   "execution_count": 35,
   "id": "c93283ea",
   "metadata": {},
   "outputs": [],
   "source": [
    "df['New Time'] = jap_time.dt.strftime('%H:%M:%S')\n",
    "#create new time variable"
   ]
  },
  {
   "cell_type": "code",
   "execution_count": 38,
   "id": "51e9c36b",
   "metadata": {},
   "outputs": [],
   "source": [
    "df['New Date'] = jap_time.dt.strftime('%d-%m-%y')\n",
    "#create new date variable"
   ]
  },
  {
   "cell_type": "code",
   "execution_count": 40,
   "id": "a6e23bff",
   "metadata": {},
   "outputs": [],
   "source": [
    "df['day'] = jap_time.dt.day\n",
    "df['month'] = jap_time.dt.month\n",
    "df['year'] = jap_time.dt.year\n",
    "# create seperate columns for day, month, year. This will be used for machine learning"
   ]
  },
  {
   "cell_type": "code",
   "execution_count": 41,
   "id": "23e30375",
   "metadata": {},
   "outputs": [],
   "source": [
    "df = df.drop(columns = 'place')\n",
    "#drop the column place as we do not need it"
   ]
  },
  {
   "cell_type": "code",
   "execution_count": 43,
   "id": "7b1c5b67",
   "metadata": {},
   "outputs": [],
   "source": [
    "df.to_csv('jap_data_clean.csv', index = False)\n",
    "# save the csv file."
   ]
  },
  {
   "cell_type": "code",
   "execution_count": null,
   "id": "6f2ff62f",
   "metadata": {},
   "outputs": [],
   "source": []
  }
 ],
 "metadata": {
  "kernelspec": {
   "display_name": "Python 3 (ipykernel)",
   "language": "python",
   "name": "python3"
  },
  "language_info": {
   "codemirror_mode": {
    "name": "ipython",
    "version": 3
   },
   "file_extension": ".py",
   "mimetype": "text/x-python",
   "name": "python",
   "nbconvert_exporter": "python",
   "pygments_lexer": "ipython3",
   "version": "3.10.9"
  }
 },
 "nbformat": 4,
 "nbformat_minor": 5
}
